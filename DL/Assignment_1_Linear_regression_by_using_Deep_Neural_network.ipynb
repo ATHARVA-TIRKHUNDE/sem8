{
  "nbformat": 4,
  "nbformat_minor": 0,
  "metadata": {
    "colab": {
      "provenance": []
    },
    "kernelspec": {
      "name": "python3",
      "display_name": "Python 3"
    },
    "language_info": {
      "name": "python"
    }
  },
  "cells": [
    {
      "cell_type": "code",
      "execution_count": null,
      "metadata": {
        "id": "cuFq02RaRZ9g"
      },
      "outputs": [],
      "source": [
        "# Import the require libraries\n",
        "\n",
        "import numpy as np\n",
        "import pandas as pd\n",
        "import tensorflow as tf\n",
        "import matplotlib.pyplot as plt\n",
        "import math"
      ]
    },
    {
      "cell_type": "code",
      "source": [
        "df = pd.read_csv('/content/1_boston_housing.csv')"
      ],
      "metadata": {
        "id": "PUQY2NrLR069"
      },
      "execution_count": null,
      "outputs": []
    },
    {
      "cell_type": "code",
      "source": [
        "df.head(5)"
      ],
      "metadata": {
        "id": "DqfGtp1DR00Y"
      },
      "execution_count": null,
      "outputs": []
    },
    {
      "cell_type": "code",
      "source": [
        "dataX = df.drop([\"MEDV\"], axis=1 )\n",
        "dataY = df[\"MEDV\"]"
      ],
      "metadata": {
        "id": "DTkjRtoCR0xB"
      },
      "execution_count": null,
      "outputs": []
    },
    {
      "cell_type": "code",
      "source": [
        "# Scaling the data\n",
        "\n",
        "from sklearn.preprocessing import StandardScaler\n",
        "scaler = StandardScaler()\n",
        "x_scaled = scaler.fit_transform(dataX)"
      ],
      "metadata": {
        "id": "t86xRKXJR0rT"
      },
      "execution_count": null,
      "outputs": []
    },
    {
      "cell_type": "code",
      "source": [
        "# Train Test Split\n",
        "\n",
        "from sklearn.model_selection import train_test_split\n",
        "x_train, x_test, y_train, y_test = train_test_split(x_scaled, dataY)"
      ],
      "metadata": {
        "id": "UBfBrTOLR0uG"
      },
      "execution_count": null,
      "outputs": []
    },
    {
      "cell_type": "code",
      "source": [
        "from sklearn.linear_model import LinearRegression\n",
        "\n",
        "linear_model = LinearRegression()\n",
        "linear_model.fit(x_train, y_train)"
      ],
      "metadata": {
        "id": "GmGoh8NOR0oW"
      },
      "execution_count": null,
      "outputs": []
    },
    {
      "cell_type": "code",
      "source": [
        "y_pred_test = linear_model.predict(x_test)\n",
        "\n",
        "# Evaluate the model\n",
        "from sklearn.metrics import r2_score, mean_squared_error\n",
        "\n",
        "# Test\n",
        "r2 = r2_score(y_test, y_pred_test)\n",
        "rmse = math.sqrt(mean_squared_error(y_test, y_pred_test))\n",
        "print(\"Test: \")\n",
        "print(\"Mean Absolute Error:\", r2)\n",
        "print(\"Mean Squared Error:\", rmse)"
      ],
      "metadata": {
        "id": "5zgnpwnRR0lW"
      },
      "execution_count": null,
      "outputs": []
    },
    {
      "cell_type": "code",
      "source": [
        "# Linear Regression using neural Network\n",
        "from tensorflow.keras.models import Sequential\n",
        "from tensorflow.keras.layers import Dense\n",
        "\n",
        "# define the deep neural network model\n",
        "model = Sequential()\n",
        "\n",
        "# dense means fully connected layer\n",
        "model.add(Dense(128,activation='linear',input_shape=(x_train.shape[1],)))\n",
        "model.add(Dense(64,activation='relu'))\n",
        "model.add(Dense(1))\n",
        "model.compile(optimizer='adam',loss='mean_squared_error')\n",
        "\n",
        "#train the model\n",
        "model.fit( x_train, y_train, epochs=100, batch_size=32, validation_split=0.25)"
      ],
      "metadata": {
        "id": "e18Wv2DMZCYV"
      },
      "execution_count": null,
      "outputs": []
    },
    {
      "cell_type": "code",
      "source": [
        "# Evaluate the model\n",
        "from sklearn.metrics import r2_score, mean_squared_error\n",
        "\n",
        "y_test_predict = model.predict(x_test)\n",
        "\n",
        "# Test\n",
        "r2 = r2_score(y_test, y_test_predict)\n",
        "rmse = math.sqrt(mean_squared_error(y_test, y_test_predict))\n",
        "print(\"Mean Absolute Error:\", r2)\n",
        "print(\"Mean Squared Error:\", rmse)\n"
      ],
      "metadata": {
        "id": "70US455xbNZw"
      },
      "execution_count": null,
      "outputs": []
    },
    {
      "cell_type": "code",
      "source": [
        "https://colab.research.google.com/drive/1XAAG9mmtasnBLhSCfDR7MFaUmMfyhrHr?usp=sharing"
      ],
      "metadata": {
        "id": "hcakf3TfreGb"
      },
      "execution_count": null,
      "outputs": []
    }
  ]
}