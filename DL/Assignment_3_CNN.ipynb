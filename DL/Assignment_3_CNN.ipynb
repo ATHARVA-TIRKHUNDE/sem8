{
  "nbformat": 4,
  "nbformat_minor": 0,
  "metadata": {
    "colab": {
      "provenance": []
    },
    "kernelspec": {
      "name": "python3",
      "display_name": "Python 3"
    },
    "language_info": {
      "name": "python"
    }
  },
  "cells": [
    {
      "cell_type": "code",
      "execution_count": null,
      "metadata": {
        "id": "Hdl0rfCNpQQ3"
      },
      "outputs": [],
      "source": [
        "from tensorflow import keras\n",
        "import numpy as np\n",
        "import matplotlib.pyplot as plt\n"
      ]
    },
    {
      "cell_type": "code",
      "source": [
        "dataset = keras.datasets.fashion_mnist.load_data()\n",
        "(train_images, train_labels), (test_images, test_labels) = dataset"
      ],
      "metadata": {
        "id": "ZER2ODIYqMA7"
      },
      "execution_count": null,
      "outputs": []
    },
    {
      "cell_type": "code",
      "source": [
        "class_names = ['T-shirt/top', 'Trouser', 'Pullover', 'Dress', 'Coat', 'Sandal', 'Shirt', 'Sneaker', 'Bag', 'Ankle boot']"
      ],
      "metadata": {
        "id": "4cz1U5fesqv_"
      },
      "execution_count": null,
      "outputs": []
    },
    {
      "cell_type": "code",
      "source": [
        "for i in range(10):\n",
        "    plt.subplot( 2,5, i+1 )\n",
        "    plt.imshow( train_images[i], cmap='gray' )\n",
        "    plt.xlabel( class_names[train_labels[i]] )\n",
        "plt.show()"
      ],
      "metadata": {
        "id": "WWAdP5K2rlqM"
      },
      "execution_count": null,
      "outputs": []
    },
    {
      "cell_type": "code",
      "source": [
        "#normalize\n",
        "# train_images = train_images / 255\n",
        "# test_images = test_images / 255\n",
        "\n",
        "# Preprocess the data\n",
        "train_images = train_images.astype('float32') / 255.0\n",
        "test_images = test_images.astype('float32') / 255.0"
      ],
      "metadata": {
        "id": "ZSnFJz51qL7P"
      },
      "execution_count": null,
      "outputs": []
    },
    {
      "cell_type": "code",
      "source": [
        "# Build the model\n",
        "\n",
        "from tensorflow.keras.models import Sequential\n",
        "from tensorflow.keras.layers import Conv2D, MaxPooling2D, Dense, Flatten\n",
        "\n",
        "model = Sequential()\n",
        "model.add(Conv2D(32, (3, 3), activation='relu', input_shape=(28, 28, 1)))\n",
        "model.add(MaxPooling2D((2, 2)))\n",
        "model.add(Flatten())\n",
        "model.add(Dense(128, activation='relu'))\n",
        "model.add(Dense(10, activation='softmax'))\n"
      ],
      "metadata": {
        "id": "9XMAWqf1F6-G"
      },
      "execution_count": null,
      "outputs": []
    },
    {
      "cell_type": "code",
      "source": [
        "# Train the model\n",
        "model.compile( loss='sparse_categorical_crossentropy', optimizer='adam', metrics=['accuracy'])\n"
      ],
      "metadata": {
        "id": "1t4B_WvyF8iF"
      },
      "execution_count": null,
      "outputs": []
    },
    {
      "cell_type": "code",
      "source": [
        "model.fit(train_images, train_labels, epochs=10)"
      ],
      "metadata": {
        "id": "C3ZF1O43GERy"
      },
      "execution_count": null,
      "outputs": []
    },
    {
      "cell_type": "code",
      "source": [
        "# Evaluate the model\n",
        "train_loss, train_acc = model.evaluate(train_images,  train_labels)\n",
        "test_loss, test_acc = model.evaluate(test_images,  test_labels)\n",
        "\n",
        "print('\\nTrain accuracy:', train_acc)\n",
        "print('\\nTest accuracy:', test_acc)\n",
        "print('\\n')\n",
        "\n",
        "# Use the model\n",
        "predictions = model.predict(test_images)\n"
      ],
      "metadata": {
        "id": "ixI8hGHoF8ej"
      },
      "execution_count": null,
      "outputs": []
    },
    {
      "cell_type": "code",
      "source": [
        "# Testing Predictions\n",
        "index = 85\n",
        "label = np.argmax(predictions[index])\n",
        "print(class_names[label])"
      ],
      "metadata": {
        "id": "WkjkPC5dF8cL"
      },
      "execution_count": null,
      "outputs": []
    },
    {
      "cell_type": "code",
      "source": [
        "plt.subplot(2,2,1)\n",
        "plt.imshow(test_images[index], cmap=None)\n",
        "plt.xlabel(class_names[test_labels[index]])"
      ],
      "metadata": {
        "id": "3CHqVA4uKFAL"
      },
      "execution_count": null,
      "outputs": []
    }
  ]
}