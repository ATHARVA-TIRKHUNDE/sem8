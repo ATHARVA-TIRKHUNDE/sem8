{
  "cells": [
    {
      "cell_type": "code",
      "execution_count": null,
      "metadata": {
        "id": "Hdl0rfCNpQQ3"
      },
      "outputs": [],
      "source": [
        "from tensorflow import keras\n",
        "import numpy as np\n",
        "import matplotlib.pyplot as plt\n"
      ]
    },
    {
      "cell_type": "code",
      "execution_count": null,
      "metadata": {
        "id": "ZER2ODIYqMA7"
      },
      "outputs": [],
      "source": [
        "dataset = keras.datasets.fashion_mnist.load_data()\n",
        "(train_images, train_labels), (test_images, test_labels) = dataset"
      ]
    },
    {
      "cell_type": "code",
      "execution_count": null,
      "metadata": {
        "id": "4cz1U5fesqv_"
      },
      "outputs": [],
      "source": [
        "class_names = ['T-shirt/top', 'Trouser', 'Pullover', 'Dress', 'Coat', 'Sandal', 'Shirt', 'Sneaker', 'Bag', 'Ankle boot']"
      ]
    },
    {
      "cell_type": "code",
      "execution_count": null,
      "metadata": {
        "id": "WWAdP5K2rlqM"
      },
      "outputs": [],
      "source": [
        "for i in range(10):\n",
        "    plt.subplot( 2,5, i+1 )\n",
        "    plt.imshow( train_images[i], cmap='gray' )\n",
        "    plt.xlabel( class_names[train_labels[i]] )\n",
        "plt.show()"
      ]
    },
    {
      "cell_type": "code",
      "execution_count": null,
      "metadata": {
        "id": "ZSnFJz51qL7P"
      },
      "outputs": [],
      "source": [
        "#normalize\n",
        "# train_images = train_images / 255\n",
        "# test_images = test_images / 255\n",
        "\n",
        "# Preprocess the data\n",
        "train_images = train_images.astype('float32') / 255.0\n",
        "test_images = test_images.astype('float32') / 255.0"
      ]
    },
    {
      "cell_type": "code",
      "execution_count": null,
      "metadata": {
        "id": "9XMAWqf1F6-G"
      },
      "outputs": [],
      "source": [
        "# Build the model\n",
        "\n",
        "from tensorflow.keras.models import Sequential\n",
        "from tensorflow.keras.layers import Conv2D, MaxPooling2D, Dense, Flatten\n",
        "\n",
        "model = Sequential()\n",
        "model.add(Conv2D(32, (3, 3), activation='relu', input_shape=(28, 28, 1)))\n",
        "model.add(MaxPooling2D((2, 2)))\n",
        "model.add(Flatten())\n",
        "model.add(Dense(128, activation='relu'))\n",
        "model.add(Dense(10, activation='softmax'))\n"
      ]
    },
    {
      "cell_type": "code",
      "execution_count": null,
      "metadata": {
        "id": "1t4B_WvyF8iF"
      },
      "outputs": [],
      "source": [
        "# Train the model\n",
        "model.compile( loss='sparse_categorical_crossentropy', optimizer='adam', metrics=['accuracy'])\n"
      ]
    },
    {
      "cell_type": "code",
      "execution_count": null,
      "metadata": {
        "id": "C3ZF1O43GERy"
      },
      "outputs": [],
      "source": [
        "model.fit(train_images, train_labels, epochs=10)"
      ]
    },
    {
      "cell_type": "code",
      "execution_count": null,
      "metadata": {
        "id": "ixI8hGHoF8ej"
      },
      "outputs": [],
      "source": [
        "# Evaluate the model\n",
        "train_loss, train_acc = model.evaluate(train_images,  train_labels)\n",
        "test_loss, test_acc = model.evaluate(test_images,  test_labels)\n",
        "\n",
        "print('\\nTrain accuracy:', train_acc)\n",
        "print('\\nTest accuracy:', test_acc)\n",
        "print('\\n')\n",
        "\n",
        "# Use the model\n",
        "predictions = model.predict(test_images)\n"
      ]
    },
    {
      "cell_type": "code",
      "execution_count": null,
      "metadata": {
        "id": "WkjkPC5dF8cL"
      },
      "outputs": [],
      "source": [
        "# Testing Predictions\n",
        "index = 85\n",
        "label = np.argmax(predictions[index])\n",
        "print(class_names[label])"
      ]
    },
    {
      "cell_type": "code",
      "execution_count": null,
      "metadata": {
        "id": "3CHqVA4uKFAL"
      },
      "outputs": [],
      "source": [
        "plt.subplot(2,2,1)\n",
        "plt.imshow(test_images[index], cmap=None)\n",
        "plt.xlabel(class_names[test_labels[index]])"
      ]
    },
    {
      "cell_type": "code",
      "execution_count": null,
      "metadata": {},
      "outputs": [],
      "source": [
        "https://colab.research.google.com/drive/1QUPH5OFB0AbvpD3KPhuKDsdUlcZ4Ybdn?usp=sharing"
      ]
    }
  ],
  "metadata": {
    "colab": {
      "provenance": []
    },
    "kernelspec": {
      "display_name": "Python 3",
      "name": "python3"
    },
    "language_info": {
      "name": "python"
    }
  },
  "nbformat": 4,
  "nbformat_minor": 0
}
