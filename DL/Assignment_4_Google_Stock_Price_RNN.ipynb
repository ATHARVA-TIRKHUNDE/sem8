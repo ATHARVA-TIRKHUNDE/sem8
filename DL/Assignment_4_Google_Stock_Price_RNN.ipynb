{
  "nbformat": 4,
  "nbformat_minor": 0,
  "metadata": {
    "colab": {
      "provenance": []
    },
    "kernelspec": {
      "name": "python3",
      "display_name": "Python 3"
    },
    "language_info": {
      "name": "python"
    }
  },
  "cells": [
    {
      "cell_type": "code",
      "execution_count": null,
      "metadata": {
        "id": "g05P6boFGxQr"
      },
      "outputs": [],
      "source": [
        "import pandas as pd\n",
        "import numpy as np\n",
        "import tensorflow as tf"
      ]
    },
    {
      "cell_type": "code",
      "source": [
        "#  Load Dataset\n",
        "df = pd.read_csv(\"/content/GOOG.csv\")\n",
        "df.head(5)"
      ],
      "metadata": {
        "colab": {
          "base_uri": "https://localhost:8080/",
          "height": 313
        },
        "id": "364idIviHITK",
        "outputId": "f3536493-85c1-4fab-9b9c-a2b1cad85571"
      },
      "execution_count": null,
      "outputs": [
        {
          "output_type": "execute_result",
          "data": {
            "text/plain": [
              "  symbol                       date   close    high       low    open  \\\n",
              "0   GOOG  2016-06-14 00:00:00+00:00  718.27  722.47  713.1200  716.48   \n",
              "1   GOOG  2016-06-15 00:00:00+00:00  718.92  722.98  717.3100  719.00   \n",
              "2   GOOG  2016-06-16 00:00:00+00:00  710.36  716.65  703.2600  714.91   \n",
              "3   GOOG  2016-06-17 00:00:00+00:00  691.72  708.82  688.4515  708.65   \n",
              "4   GOOG  2016-06-20 00:00:00+00:00  693.71  702.48  693.4100  698.77   \n",
              "\n",
              "    volume  adjClose  adjHigh    adjLow  adjOpen  adjVolume  divCash  \\\n",
              "0  1306065    718.27   722.47  713.1200   716.48    1306065      0.0   \n",
              "1  1214517    718.92   722.98  717.3100   719.00    1214517      0.0   \n",
              "2  1982471    710.36   716.65  703.2600   714.91    1982471      0.0   \n",
              "3  3402357    691.72   708.82  688.4515   708.65    3402357      0.0   \n",
              "4  2082538    693.71   702.48  693.4100   698.77    2082538      0.0   \n",
              "\n",
              "   splitFactor  \n",
              "0          1.0  \n",
              "1          1.0  \n",
              "2          1.0  \n",
              "3          1.0  \n",
              "4          1.0  "
            ],
            "text/html": [
              "\n",
              "  <div id=\"df-795b7a10-c997-4b72-a916-fb6d9e9de149\" class=\"colab-df-container\">\n",
              "    <div>\n",
              "<style scoped>\n",
              "    .dataframe tbody tr th:only-of-type {\n",
              "        vertical-align: middle;\n",
              "    }\n",
              "\n",
              "    .dataframe tbody tr th {\n",
              "        vertical-align: top;\n",
              "    }\n",
              "\n",
              "    .dataframe thead th {\n",
              "        text-align: right;\n",
              "    }\n",
              "</style>\n",
              "<table border=\"1\" class=\"dataframe\">\n",
              "  <thead>\n",
              "    <tr style=\"text-align: right;\">\n",
              "      <th></th>\n",
              "      <th>symbol</th>\n",
              "      <th>date</th>\n",
              "      <th>close</th>\n",
              "      <th>high</th>\n",
              "      <th>low</th>\n",
              "      <th>open</th>\n",
              "      <th>volume</th>\n",
              "      <th>adjClose</th>\n",
              "      <th>adjHigh</th>\n",
              "      <th>adjLow</th>\n",
              "      <th>adjOpen</th>\n",
              "      <th>adjVolume</th>\n",
              "      <th>divCash</th>\n",
              "      <th>splitFactor</th>\n",
              "    </tr>\n",
              "  </thead>\n",
              "  <tbody>\n",
              "    <tr>\n",
              "      <th>0</th>\n",
              "      <td>GOOG</td>\n",
              "      <td>2016-06-14 00:00:00+00:00</td>\n",
              "      <td>718.27</td>\n",
              "      <td>722.47</td>\n",
              "      <td>713.1200</td>\n",
              "      <td>716.48</td>\n",
              "      <td>1306065</td>\n",
              "      <td>718.27</td>\n",
              "      <td>722.47</td>\n",
              "      <td>713.1200</td>\n",
              "      <td>716.48</td>\n",
              "      <td>1306065</td>\n",
              "      <td>0.0</td>\n",
              "      <td>1.0</td>\n",
              "    </tr>\n",
              "    <tr>\n",
              "      <th>1</th>\n",
              "      <td>GOOG</td>\n",
              "      <td>2016-06-15 00:00:00+00:00</td>\n",
              "      <td>718.92</td>\n",
              "      <td>722.98</td>\n",
              "      <td>717.3100</td>\n",
              "      <td>719.00</td>\n",
              "      <td>1214517</td>\n",
              "      <td>718.92</td>\n",
              "      <td>722.98</td>\n",
              "      <td>717.3100</td>\n",
              "      <td>719.00</td>\n",
              "      <td>1214517</td>\n",
              "      <td>0.0</td>\n",
              "      <td>1.0</td>\n",
              "    </tr>\n",
              "    <tr>\n",
              "      <th>2</th>\n",
              "      <td>GOOG</td>\n",
              "      <td>2016-06-16 00:00:00+00:00</td>\n",
              "      <td>710.36</td>\n",
              "      <td>716.65</td>\n",
              "      <td>703.2600</td>\n",
              "      <td>714.91</td>\n",
              "      <td>1982471</td>\n",
              "      <td>710.36</td>\n",
              "      <td>716.65</td>\n",
              "      <td>703.2600</td>\n",
              "      <td>714.91</td>\n",
              "      <td>1982471</td>\n",
              "      <td>0.0</td>\n",
              "      <td>1.0</td>\n",
              "    </tr>\n",
              "    <tr>\n",
              "      <th>3</th>\n",
              "      <td>GOOG</td>\n",
              "      <td>2016-06-17 00:00:00+00:00</td>\n",
              "      <td>691.72</td>\n",
              "      <td>708.82</td>\n",
              "      <td>688.4515</td>\n",
              "      <td>708.65</td>\n",
              "      <td>3402357</td>\n",
              "      <td>691.72</td>\n",
              "      <td>708.82</td>\n",
              "      <td>688.4515</td>\n",
              "      <td>708.65</td>\n",
              "      <td>3402357</td>\n",
              "      <td>0.0</td>\n",
              "      <td>1.0</td>\n",
              "    </tr>\n",
              "    <tr>\n",
              "      <th>4</th>\n",
              "      <td>GOOG</td>\n",
              "      <td>2016-06-20 00:00:00+00:00</td>\n",
              "      <td>693.71</td>\n",
              "      <td>702.48</td>\n",
              "      <td>693.4100</td>\n",
              "      <td>698.77</td>\n",
              "      <td>2082538</td>\n",
              "      <td>693.71</td>\n",
              "      <td>702.48</td>\n",
              "      <td>693.4100</td>\n",
              "      <td>698.77</td>\n",
              "      <td>2082538</td>\n",
              "      <td>0.0</td>\n",
              "      <td>1.0</td>\n",
              "    </tr>\n",
              "  </tbody>\n",
              "</table>\n",
              "</div>\n",
              "    <div class=\"colab-df-buttons\">\n",
              "\n",
              "  <div class=\"colab-df-container\">\n",
              "    <button class=\"colab-df-convert\" onclick=\"convertToInteractive('df-795b7a10-c997-4b72-a916-fb6d9e9de149')\"\n",
              "            title=\"Convert this dataframe to an interactive table.\"\n",
              "            style=\"display:none;\">\n",
              "\n",
              "  <svg xmlns=\"http://www.w3.org/2000/svg\" height=\"24px\" viewBox=\"0 -960 960 960\">\n",
              "    <path d=\"M120-120v-720h720v720H120Zm60-500h600v-160H180v160Zm220 220h160v-160H400v160Zm0 220h160v-160H400v160ZM180-400h160v-160H180v160Zm440 0h160v-160H620v160ZM180-180h160v-160H180v160Zm440 0h160v-160H620v160Z\"/>\n",
              "  </svg>\n",
              "    </button>\n",
              "\n",
              "  <style>\n",
              "    .colab-df-container {\n",
              "      display:flex;\n",
              "      gap: 12px;\n",
              "    }\n",
              "\n",
              "    .colab-df-convert {\n",
              "      background-color: #E8F0FE;\n",
              "      border: none;\n",
              "      border-radius: 50%;\n",
              "      cursor: pointer;\n",
              "      display: none;\n",
              "      fill: #1967D2;\n",
              "      height: 32px;\n",
              "      padding: 0 0 0 0;\n",
              "      width: 32px;\n",
              "    }\n",
              "\n",
              "    .colab-df-convert:hover {\n",
              "      background-color: #E2EBFA;\n",
              "      box-shadow: 0px 1px 2px rgba(60, 64, 67, 0.3), 0px 1px 3px 1px rgba(60, 64, 67, 0.15);\n",
              "      fill: #174EA6;\n",
              "    }\n",
              "\n",
              "    .colab-df-buttons div {\n",
              "      margin-bottom: 4px;\n",
              "    }\n",
              "\n",
              "    [theme=dark] .colab-df-convert {\n",
              "      background-color: #3B4455;\n",
              "      fill: #D2E3FC;\n",
              "    }\n",
              "\n",
              "    [theme=dark] .colab-df-convert:hover {\n",
              "      background-color: #434B5C;\n",
              "      box-shadow: 0px 1px 3px 1px rgba(0, 0, 0, 0.15);\n",
              "      filter: drop-shadow(0px 1px 2px rgba(0, 0, 0, 0.3));\n",
              "      fill: #FFFFFF;\n",
              "    }\n",
              "  </style>\n",
              "\n",
              "    <script>\n",
              "      const buttonEl =\n",
              "        document.querySelector('#df-795b7a10-c997-4b72-a916-fb6d9e9de149 button.colab-df-convert');\n",
              "      buttonEl.style.display =\n",
              "        google.colab.kernel.accessAllowed ? 'block' : 'none';\n",
              "\n",
              "      async function convertToInteractive(key) {\n",
              "        const element = document.querySelector('#df-795b7a10-c997-4b72-a916-fb6d9e9de149');\n",
              "        const dataTable =\n",
              "          await google.colab.kernel.invokeFunction('convertToInteractive',\n",
              "                                                    [key], {});\n",
              "        if (!dataTable) return;\n",
              "\n",
              "        const docLinkHtml = 'Like what you see? Visit the ' +\n",
              "          '<a target=\"_blank\" href=https://colab.research.google.com/notebooks/data_table.ipynb>data table notebook</a>'\n",
              "          + ' to learn more about interactive tables.';\n",
              "        element.innerHTML = '';\n",
              "        dataTable['output_type'] = 'display_data';\n",
              "        await google.colab.output.renderOutput(dataTable, element);\n",
              "        const docLink = document.createElement('div');\n",
              "        docLink.innerHTML = docLinkHtml;\n",
              "        element.appendChild(docLink);\n",
              "      }\n",
              "    </script>\n",
              "  </div>\n",
              "\n",
              "\n",
              "<div id=\"df-8d3b3d3d-e7cd-4e51-9108-4cac94f26066\">\n",
              "  <button class=\"colab-df-quickchart\" onclick=\"quickchart('df-8d3b3d3d-e7cd-4e51-9108-4cac94f26066')\"\n",
              "            title=\"Suggest charts\"\n",
              "            style=\"display:none;\">\n",
              "\n",
              "<svg xmlns=\"http://www.w3.org/2000/svg\" height=\"24px\"viewBox=\"0 0 24 24\"\n",
              "     width=\"24px\">\n",
              "    <g>\n",
              "        <path d=\"M19 3H5c-1.1 0-2 .9-2 2v14c0 1.1.9 2 2 2h14c1.1 0 2-.9 2-2V5c0-1.1-.9-2-2-2zM9 17H7v-7h2v7zm4 0h-2V7h2v10zm4 0h-2v-4h2v4z\"/>\n",
              "    </g>\n",
              "</svg>\n",
              "  </button>\n",
              "\n",
              "<style>\n",
              "  .colab-df-quickchart {\n",
              "      --bg-color: #E8F0FE;\n",
              "      --fill-color: #1967D2;\n",
              "      --hover-bg-color: #E2EBFA;\n",
              "      --hover-fill-color: #174EA6;\n",
              "      --disabled-fill-color: #AAA;\n",
              "      --disabled-bg-color: #DDD;\n",
              "  }\n",
              "\n",
              "  [theme=dark] .colab-df-quickchart {\n",
              "      --bg-color: #3B4455;\n",
              "      --fill-color: #D2E3FC;\n",
              "      --hover-bg-color: #434B5C;\n",
              "      --hover-fill-color: #FFFFFF;\n",
              "      --disabled-bg-color: #3B4455;\n",
              "      --disabled-fill-color: #666;\n",
              "  }\n",
              "\n",
              "  .colab-df-quickchart {\n",
              "    background-color: var(--bg-color);\n",
              "    border: none;\n",
              "    border-radius: 50%;\n",
              "    cursor: pointer;\n",
              "    display: none;\n",
              "    fill: var(--fill-color);\n",
              "    height: 32px;\n",
              "    padding: 0;\n",
              "    width: 32px;\n",
              "  }\n",
              "\n",
              "  .colab-df-quickchart:hover {\n",
              "    background-color: var(--hover-bg-color);\n",
              "    box-shadow: 0 1px 2px rgba(60, 64, 67, 0.3), 0 1px 3px 1px rgba(60, 64, 67, 0.15);\n",
              "    fill: var(--button-hover-fill-color);\n",
              "  }\n",
              "\n",
              "  .colab-df-quickchart-complete:disabled,\n",
              "  .colab-df-quickchart-complete:disabled:hover {\n",
              "    background-color: var(--disabled-bg-color);\n",
              "    fill: var(--disabled-fill-color);\n",
              "    box-shadow: none;\n",
              "  }\n",
              "\n",
              "  .colab-df-spinner {\n",
              "    border: 2px solid var(--fill-color);\n",
              "    border-color: transparent;\n",
              "    border-bottom-color: var(--fill-color);\n",
              "    animation:\n",
              "      spin 1s steps(1) infinite;\n",
              "  }\n",
              "\n",
              "  @keyframes spin {\n",
              "    0% {\n",
              "      border-color: transparent;\n",
              "      border-bottom-color: var(--fill-color);\n",
              "      border-left-color: var(--fill-color);\n",
              "    }\n",
              "    20% {\n",
              "      border-color: transparent;\n",
              "      border-left-color: var(--fill-color);\n",
              "      border-top-color: var(--fill-color);\n",
              "    }\n",
              "    30% {\n",
              "      border-color: transparent;\n",
              "      border-left-color: var(--fill-color);\n",
              "      border-top-color: var(--fill-color);\n",
              "      border-right-color: var(--fill-color);\n",
              "    }\n",
              "    40% {\n",
              "      border-color: transparent;\n",
              "      border-right-color: var(--fill-color);\n",
              "      border-top-color: var(--fill-color);\n",
              "    }\n",
              "    60% {\n",
              "      border-color: transparent;\n",
              "      border-right-color: var(--fill-color);\n",
              "    }\n",
              "    80% {\n",
              "      border-color: transparent;\n",
              "      border-right-color: var(--fill-color);\n",
              "      border-bottom-color: var(--fill-color);\n",
              "    }\n",
              "    90% {\n",
              "      border-color: transparent;\n",
              "      border-bottom-color: var(--fill-color);\n",
              "    }\n",
              "  }\n",
              "</style>\n",
              "\n",
              "  <script>\n",
              "    async function quickchart(key) {\n",
              "      const quickchartButtonEl =\n",
              "        document.querySelector('#' + key + ' button');\n",
              "      quickchartButtonEl.disabled = true;  // To prevent multiple clicks.\n",
              "      quickchartButtonEl.classList.add('colab-df-spinner');\n",
              "      try {\n",
              "        const charts = await google.colab.kernel.invokeFunction(\n",
              "            'suggestCharts', [key], {});\n",
              "      } catch (error) {\n",
              "        console.error('Error during call to suggestCharts:', error);\n",
              "      }\n",
              "      quickchartButtonEl.classList.remove('colab-df-spinner');\n",
              "      quickchartButtonEl.classList.add('colab-df-quickchart-complete');\n",
              "    }\n",
              "    (() => {\n",
              "      let quickchartButtonEl =\n",
              "        document.querySelector('#df-8d3b3d3d-e7cd-4e51-9108-4cac94f26066 button');\n",
              "      quickchartButtonEl.style.display =\n",
              "        google.colab.kernel.accessAllowed ? 'block' : 'none';\n",
              "    })();\n",
              "  </script>\n",
              "</div>\n",
              "\n",
              "    </div>\n",
              "  </div>\n"
            ],
            "application/vnd.google.colaboratory.intrinsic+json": {
              "type": "dataframe",
              "variable_name": "df",
              "summary": "{\n  \"name\": \"df\",\n  \"rows\": 1258,\n  \"fields\": [\n    {\n      \"column\": \"symbol\",\n      \"properties\": {\n        \"dtype\": \"category\",\n        \"num_unique_values\": 1,\n        \"samples\": [\n          \"GOOG\"\n        ],\n        \"semantic_type\": \"\",\n        \"description\": \"\"\n      }\n    },\n    {\n      \"column\": \"date\",\n      \"properties\": {\n        \"dtype\": \"object\",\n        \"num_unique_values\": 1258,\n        \"samples\": [\n          \"2018-09-05 00:00:00+00:00\"\n        ],\n        \"semantic_type\": \"\",\n        \"description\": \"\"\n      }\n    },\n    {\n      \"column\": \"close\",\n      \"properties\": {\n        \"dtype\": \"number\",\n        \"std\": 383.3333577269818,\n        \"min\": 668.26,\n        \"max\": 2521.6,\n        \"num_unique_values\": 1247,\n        \"samples\": [\n          1157.86\n        ],\n        \"semantic_type\": \"\",\n        \"description\": \"\"\n      }\n    },\n    {\n      \"column\": \"high\",\n      \"properties\": {\n        \"dtype\": \"number\",\n        \"std\": 387.57087167028754,\n        \"min\": 672.3,\n        \"max\": 2526.99,\n        \"num_unique_values\": 1240,\n        \"samples\": [\n          1043.97\n        ],\n        \"semantic_type\": \"\",\n        \"description\": \"\"\n      }\n    },\n    {\n      \"column\": \"low\",\n      \"properties\": {\n        \"dtype\": \"number\",\n        \"std\": 378.7770938206427,\n        \"min\": 663.284,\n        \"max\": 2498.29,\n        \"num_unique_values\": 1244,\n        \"samples\": [\n          1183.6\n        ],\n        \"semantic_type\": \"\",\n        \"description\": \"\"\n      }\n    },\n    {\n      \"column\": \"open\",\n      \"properties\": {\n        \"dtype\": \"number\",\n        \"std\": 382.4469952385126,\n        \"min\": 671.0,\n        \"max\": 2524.92,\n        \"num_unique_values\": 1227,\n        \"samples\": [\n          1450.09\n        ],\n        \"semantic_type\": \"\",\n        \"description\": \"\"\n      }\n    },\n    {\n      \"column\": \"volume\",\n      \"properties\": {\n        \"dtype\": \"number\",\n        \"std\": 696017,\n        \"min\": 346753,\n        \"max\": 6207027,\n        \"num_unique_values\": 1258,\n        \"samples\": [\n          2061309\n        ],\n        \"semantic_type\": \"\",\n        \"description\": \"\"\n      }\n    },\n    {\n      \"column\": \"adjClose\",\n      \"properties\": {\n        \"dtype\": \"number\",\n        \"std\": 383.3333577269818,\n        \"min\": 668.26,\n        \"max\": 2521.6,\n        \"num_unique_values\": 1247,\n        \"samples\": [\n          1157.86\n        ],\n        \"semantic_type\": \"\",\n        \"description\": \"\"\n      }\n    },\n    {\n      \"column\": \"adjHigh\",\n      \"properties\": {\n        \"dtype\": \"number\",\n        \"std\": 387.57087310590686,\n        \"min\": 672.3,\n        \"max\": 2526.99,\n        \"num_unique_values\": 1240,\n        \"samples\": [\n          1043.97\n        ],\n        \"semantic_type\": \"\",\n        \"description\": \"\"\n      }\n    },\n    {\n      \"column\": \"adjLow\",\n      \"properties\": {\n        \"dtype\": \"number\",\n        \"std\": 378.77709869905954,\n        \"min\": 663.284,\n        \"max\": 2498.29,\n        \"num_unique_values\": 1244,\n        \"samples\": [\n          1183.6\n        ],\n        \"semantic_type\": \"\",\n        \"description\": \"\"\n      }\n    },\n    {\n      \"column\": \"adjOpen\",\n      \"properties\": {\n        \"dtype\": \"number\",\n        \"std\": 382.4469952385126,\n        \"min\": 671.0,\n        \"max\": 2524.92,\n        \"num_unique_values\": 1227,\n        \"samples\": [\n          1450.09\n        ],\n        \"semantic_type\": \"\",\n        \"description\": \"\"\n      }\n    },\n    {\n      \"column\": \"adjVolume\",\n      \"properties\": {\n        \"dtype\": \"number\",\n        \"std\": 696017,\n        \"min\": 346753,\n        \"max\": 6207027,\n        \"num_unique_values\": 1258,\n        \"samples\": [\n          2061309\n        ],\n        \"semantic_type\": \"\",\n        \"description\": \"\"\n      }\n    },\n    {\n      \"column\": \"divCash\",\n      \"properties\": {\n        \"dtype\": \"number\",\n        \"std\": 0.0,\n        \"min\": 0.0,\n        \"max\": 0.0,\n        \"num_unique_values\": 1,\n        \"samples\": [\n          0.0\n        ],\n        \"semantic_type\": \"\",\n        \"description\": \"\"\n      }\n    },\n    {\n      \"column\": \"splitFactor\",\n      \"properties\": {\n        \"dtype\": \"number\",\n        \"std\": 0.0,\n        \"min\": 1.0,\n        \"max\": 1.0,\n        \"num_unique_values\": 1,\n        \"samples\": [\n          1.0\n        ],\n        \"semantic_type\": \"\",\n        \"description\": \"\"\n      }\n    }\n  ]\n}"
            }
          },
          "metadata": {},
          "execution_count": 3
        }
      ]
    },
    {
      "cell_type": "code",
      "source": [
        "df1 = df.reset_index()['close']"
      ],
      "metadata": {
        "id": "6yU66m0lHYT0"
      },
      "execution_count": null,
      "outputs": []
    },
    {
      "cell_type": "code",
      "source": [
        "df1.shape"
      ],
      "metadata": {
        "colab": {
          "base_uri": "https://localhost:8080/"
        },
        "id": "DxwN2nLhHYQd",
        "outputId": "4fde99bc-5882-461f-b933-de404cc193fd"
      },
      "execution_count": null,
      "outputs": [
        {
          "output_type": "execute_result",
          "data": {
            "text/plain": [
              "(1258,)"
            ]
          },
          "metadata": {},
          "execution_count": 5
        }
      ]
    },
    {
      "cell_type": "code",
      "source": [
        "print(df1)"
      ],
      "metadata": {
        "colab": {
          "base_uri": "https://localhost:8080/"
        },
        "id": "8yuLcGRKI7Dk",
        "outputId": "9aadb38b-9f0f-4f86-fafb-7410840b62c4"
      },
      "execution_count": null,
      "outputs": [
        {
          "output_type": "stream",
          "name": "stdout",
          "text": [
            "0        718.27\n",
            "1        718.92\n",
            "2        710.36\n",
            "3        691.72\n",
            "4        693.71\n",
            "         ...   \n",
            "1253    2466.09\n",
            "1254    2482.85\n",
            "1255    2491.40\n",
            "1256    2521.60\n",
            "1257    2513.93\n",
            "Name: close, Length: 1258, dtype: float64\n"
          ]
        }
      ]
    },
    {
      "cell_type": "code",
      "source": [
        "import matplotlib.pyplot as plt\n",
        "plt.plot(df1)"
      ],
      "metadata": {
        "colab": {
          "base_uri": "https://localhost:8080/",
          "height": 447
        },
        "id": "b9VIkkc1HYLL",
        "outputId": "d3975464-930c-4647-9d1f-25db7875cd9f"
      },
      "execution_count": null,
      "outputs": [
        {
          "output_type": "execute_result",
          "data": {
            "text/plain": [
              "[<matplotlib.lines.Line2D at 0x7a79f64fd9f0>]"
            ]
          },
          "metadata": {},
          "execution_count": 7
        },
        {
          "output_type": "display_data",
          "data": {
            "text/plain": [
              "<Figure size 640x480 with 1 Axes>"
            ],
            "image/png": "[encoded data removed]"
          },
          "metadata": {}
        }
      ]
    },
    {
      "cell_type": "code",
      "source": [
        "# LSTM are sensitive to the scale of data hence we apply minmaxsaler\n",
        "from sklearn.preprocessing import MinMaxScaler\n",
        "\n",
        "scaler = MinMaxScaler(feature_range=(0,1))\n",
        "df1 = scaler.fit_transform( np.array(df1).reshape(-1,1) )"
      ],
      "metadata": {
        "id": "iyVTn7A-HYIw"
      },
      "execution_count": null,
      "outputs": []
    },
    {
      "cell_type": "code",
      "source": [
        "print(df1)"
      ],
      "metadata": {
        "colab": {
          "base_uri": "https://localhost:8080/"
        },
        "id": "p2rrdj4YI4WO",
        "outputId": "4b3ba92d-9f38-4f03-91a4-a520eb4f6375"
      },
      "execution_count": null,
      "outputs": [
        {
          "output_type": "stream",
          "name": "stdout",
          "text": [
            "[[0.02698372]\n",
            " [0.02733443]\n",
            " [0.02271575]\n",
            " ...\n",
            " [0.98370509]\n",
            " [1.        ]\n",
            " [0.99586153]]\n"
          ]
        }
      ]
    },
    {
      "cell_type": "code",
      "source": [
        "# Train test Split\n",
        "\n",
        "# spliting train test data as this is time series data we need to be carefull. for stock\n",
        "# price previous 'n' days price affect the next day price of stock\n",
        "# Divide base on date\n",
        "\n",
        "train_size = int(len(df1)* 0.70)\n",
        "test_size = len(df1) - train_size\n",
        "train_data, test_data = df1[0:train_size,:], df1[train_size: len(df1), :1]\n"
      ],
      "metadata": {
        "id": "oKEeOwr2JUSn"
      },
      "execution_count": null,
      "outputs": []
    },
    {
      "cell_type": "code",
      "source": [
        "train_size, test_size"
      ],
      "metadata": {
        "colab": {
          "base_uri": "https://localhost:8080/"
        },
        "id": "ITUADrPPpMtF",
        "outputId": "22cb20fe-b457-4f9e-a758-d4251357b38c"
      },
      "execution_count": null,
      "outputs": [
        {
          "output_type": "execute_result",
          "data": {
            "text/plain": [
              "(880, 378)"
            ]
          },
          "metadata": {},
          "execution_count": 11
        }
      ]
    },
    {
      "cell_type": "code",
      "source": [
        "# convert an array of values into a dataset matrix\n",
        "\n",
        "def create_dataset( dataset, time_step=1 ) :\n",
        "    dataX, dataY = [], []\n",
        "    for i in range(len(dataset)-time_step-1):\n",
        "        dataX.append(dataset[i:(i+time_step), 0])\n",
        "        dataY.append(dataset[i+time_step, 0])\n",
        "    return np.array(dataX), np.array(dataY)\n"
      ],
      "metadata": {
        "id": "gr7UEjLkmrEs"
      },
      "execution_count": null,
      "outputs": []
    },
    {
      "cell_type": "code",
      "source": [
        "# reshape into X=t, t+1, t+2, t+3, t+4 and Y = t+4\n",
        "\n",
        "time_step = 100\n",
        "X_train, y_train = create_dataset(train_data, time_step)\n",
        "X_test, y_test = create_dataset(test_data, time_step)"
      ],
      "metadata": {
        "id": "J96zrxP5oYu3"
      },
      "execution_count": null,
      "outputs": []
    },
    {
      "cell_type": "code",
      "source": [
        "print(X_train.shape)\n",
        "print(y_train.shape)"
      ],
      "metadata": {
        "colab": {
          "base_uri": "https://localhost:8080/"
        },
        "id": "rCvKJMaVpIkj",
        "outputId": "0076fceb-a049-44c1-9db9-b8f8242d2ec2"
      },
      "execution_count": null,
      "outputs": [
        {
          "output_type": "stream",
          "name": "stdout",
          "text": [
            "(779, 100)\n",
            "(779,)\n"
          ]
        }
      ]
    },
    {
      "cell_type": "code",
      "source": [
        "print(X_test.shape)\n",
        "print(y_test.shape)"
      ],
      "metadata": {
        "colab": {
          "base_uri": "https://localhost:8080/"
        },
        "id": "SQ_gay6rp5uw",
        "outputId": "2f9dd737-83eb-4b8c-820b-a8af7108bfe2"
      },
      "execution_count": null,
      "outputs": [
        {
          "output_type": "stream",
          "name": "stdout",
          "text": [
            "(277, 100)\n",
            "(277,)\n"
          ]
        }
      ]
    },
    {
      "cell_type": "code",
      "source": [
        "# reshape input to [sample, time steps, feature] which is required for LSTM\n",
        "\n",
        "X_train = X_train.reshape(X_train.shape[0], X_train.shape[1], 1 )\n",
        "X_test = X_test.reshape(X_test.shape[0], X_test.shape[1], 1 )\n"
      ],
      "metadata": {
        "id": "XNg3OOyKpIg8"
      },
      "execution_count": null,
      "outputs": []
    },
    {
      "cell_type": "code",
      "source": [
        "#  Create the Stacked LSTM model\n",
        "\n",
        "from tensorflow.keras.models import Sequential\n",
        "from tensorflow.keras.layers import Dense, LSTM\n",
        "\n",
        "model = Sequential()\n",
        "model.add( LSTM(50, return_sequences=True, input_shape=(100,1)) )\n",
        "model.add( LSTM(50, return_sequences=True ) )\n",
        "model.add( LSTM(50) )\n",
        "model.add( Dense(1) )\n",
        "\n",
        "model.compile( loss='mean_squared_error', optimizer='adam' )\n",
        "model.summary()"
      ],
      "metadata": {
        "colab": {
          "base_uri": "https://localhost:8080/"
        },
        "id": "N2bBruL2pIeJ",
        "outputId": "a328151d-ddce-4531-a9ba-07e724c4e74d"
      },
      "execution_count": null,
      "outputs": [
        {
          "output_type": "stream",
          "name": "stdout",
          "text": [
            "Model: \"sequential\"\n",
            "_________________________________________________________________\n",
            " Layer (type)                Output Shape              Param #   \n",
            "=================================================================\n",
            " lstm (LSTM)                 (None, 100, 50)           10400     \n",
            "                                                                 \n",
            " lstm_1 (LSTM)               (None, 100, 50)           20200     \n",
            "                                                                 \n",
            " lstm_2 (LSTM)               (None, 50)                20200     \n",
            "                                                                 \n",
            " dense (Dense)               (None, 1)                 51        \n",
            "                                                                 \n",
            "=================================================================\n",
            "Total params: 50851 (198.64 KB)\n",
            "Trainable params: 50851 (198.64 KB)\n",
            "Non-trainable params: 0 (0.00 Byte)\n",
            "_________________________________________________________________\n"
          ]
        }
      ]
    },
    {
      "cell_type": "code",
      "source": [
        "model.fit( X_train, y_train, validation_data=(X_test, y_test), epochs=100, batch_size = 64, verbose=1)"
      ],
      "metadata": {
        "colab": {
          "base_uri": "https://localhost:8080/"
        },
        "id": "m35j4vOutZQ8",
        "outputId": "62026082-bee3-449e-c131-d3248fb93381"
      },
      "execution_count": null,
      "outputs": [
        {
          "output_type": "stream",
          "name": "stdout",
          "text": [
            "Epoch 1/100\n",
            "13/13 [==============================] - 11s 342ms/step - loss: 0.0132 - val_loss: 0.0746\n",
            "Epoch 2/100\n",
            "13/13 [==============================] - 2s 160ms/step - loss: 0.0022 - val_loss: 0.0227\n",
            "Epoch 3/100\n",
            "13/13 [==============================] - 2s 162ms/step - loss: 0.0012 - val_loss: 0.0207\n",
            "Epoch 4/100\n",
            "13/13 [==============================] - 2s 167ms/step - loss: 5.5473e-04 - val_loss: 0.0086\n",
            "Epoch 5/100\n",
            "13/13 [==============================] - 2s 194ms/step - loss: 4.4447e-04 - val_loss: 0.0043\n",
            "Epoch 6/100\n",
            "13/13 [==============================] - 3s 201ms/step - loss: 4.1496e-04 - val_loss: 0.0050\n",
            "Epoch 7/100\n",
            "13/13 [==============================] - 2s 160ms/step - loss: 3.9540e-04 - val_loss: 0.0052\n",
            "Epoch 8/100\n",
            "13/13 [==============================] - 2s 163ms/step - loss: 4.0693e-04 - val_loss: 0.0053\n",
            "Epoch 9/100\n",
            "13/13 [==============================] - 2s 165ms/step - loss: 3.9857e-04 - val_loss: 0.0055\n",
            "Epoch 10/100\n",
            "13/13 [==============================] - 2s 163ms/step - loss: 3.8713e-04 - val_loss: 0.0051\n",
            "Epoch 11/100\n",
            "13/13 [==============================] - 3s 240ms/step - loss: 3.7885e-04 - val_loss: 0.0058\n",
            "Epoch 12/100\n",
            "13/13 [==============================] - 2s 162ms/step - loss: 3.8258e-04 - val_loss: 0.0052\n",
            "Epoch 13/100\n",
            "13/13 [==============================] - 2s 162ms/step - loss: 3.7242e-04 - val_loss: 0.0043\n",
            "Epoch 14/100\n",
            "13/13 [==============================] - 2s 165ms/step - loss: 3.6848e-04 - val_loss: 0.0044\n",
            "Epoch 15/100\n",
            "13/13 [==============================] - 2s 163ms/step - loss: 3.6527e-04 - val_loss: 0.0046\n",
            "Epoch 16/100\n",
            "13/13 [==============================] - 2s 189ms/step - loss: 3.5816e-04 - val_loss: 0.0040\n",
            "Epoch 17/100\n",
            "13/13 [==============================] - 3s 216ms/step - loss: 3.6189e-04 - val_loss: 0.0038\n",
            "Epoch 18/100\n",
            "13/13 [==============================] - 2s 161ms/step - loss: 3.5704e-04 - val_loss: 0.0045\n",
            "Epoch 19/100\n",
            "13/13 [==============================] - 2s 162ms/step - loss: 3.4687e-04 - val_loss: 0.0031\n",
            "Epoch 20/100\n",
            "13/13 [==============================] - 2s 163ms/step - loss: 3.4185e-04 - val_loss: 0.0033\n",
            "Epoch 21/100\n",
            "13/13 [==============================] - 2s 162ms/step - loss: 3.4483e-04 - val_loss: 0.0047\n",
            "Epoch 22/100\n",
            "13/13 [==============================] - 3s 235ms/step - loss: 3.8196e-04 - val_loss: 0.0040\n",
            "Epoch 23/100\n",
            "13/13 [==============================] - 2s 163ms/step - loss: 3.7709e-04 - val_loss: 0.0056\n",
            "Epoch 24/100\n",
            "13/13 [==============================] - 2s 163ms/step - loss: 3.7189e-04 - val_loss: 0.0031\n",
            "Epoch 25/100\n",
            "13/13 [==============================] - 2s 165ms/step - loss: 3.2785e-04 - val_loss: 0.0039\n",
            "Epoch 26/100\n",
            "13/13 [==============================] - 2s 160ms/step - loss: 3.2866e-04 - val_loss: 0.0036\n",
            "Epoch 27/100\n",
            "13/13 [==============================] - 2s 179ms/step - loss: 3.2015e-04 - val_loss: 0.0030\n",
            "Epoch 28/100\n",
            "13/13 [==============================] - 3s 252ms/step - loss: 3.3225e-04 - val_loss: 0.0058\n",
            "Epoch 29/100\n",
            "13/13 [==============================] - 2s 165ms/step - loss: 3.4154e-04 - val_loss: 0.0034\n",
            "Epoch 30/100\n",
            "13/13 [==============================] - 2s 161ms/step - loss: 3.1717e-04 - val_loss: 0.0032\n",
            "Epoch 31/100\n",
            "13/13 [==============================] - 2s 158ms/step - loss: 3.2221e-04 - val_loss: 0.0054\n",
            "Epoch 32/100\n",
            "13/13 [==============================] - 2s 160ms/step - loss: 3.0823e-04 - val_loss: 0.0029\n",
            "Epoch 33/100\n",
            "13/13 [==============================] - 3s 264ms/step - loss: 3.5668e-04 - val_loss: 0.0104\n",
            "Epoch 34/100\n",
            "13/13 [==============================] - 2s 164ms/step - loss: 3.4416e-04 - val_loss: 0.0044\n",
            "Epoch 35/100\n",
            "13/13 [==============================] - 2s 157ms/step - loss: 3.1535e-04 - val_loss: 0.0057\n",
            "Epoch 36/100\n",
            "13/13 [==============================] - 2s 158ms/step - loss: 3.0130e-04 - val_loss: 0.0080\n",
            "Epoch 37/100\n",
            "13/13 [==============================] - 2s 159ms/step - loss: 3.0221e-04 - val_loss: 0.0065\n",
            "Epoch 38/100\n",
            "13/13 [==============================] - 2s 191ms/step - loss: 3.0472e-04 - val_loss: 0.0051\n",
            "Epoch 39/100\n",
            "13/13 [==============================] - 3s 210ms/step - loss: 3.0906e-04 - val_loss: 0.0066\n",
            "Epoch 40/100\n",
            "13/13 [==============================] - 2s 160ms/step - loss: 2.9486e-04 - val_loss: 0.0043\n",
            "Epoch 41/100\n",
            "13/13 [==============================] - 2s 158ms/step - loss: 2.9638e-04 - val_loss: 0.0061\n",
            "Epoch 42/100\n",
            "13/13 [==============================] - 2s 161ms/step - loss: 2.9026e-04 - val_loss: 0.0061\n",
            "Epoch 43/100\n",
            "13/13 [==============================] - 2s 160ms/step - loss: 2.8128e-04 - val_loss: 0.0067\n",
            "Epoch 44/100\n",
            "13/13 [==============================] - 3s 234ms/step - loss: 2.8204e-04 - val_loss: 0.0079\n",
            "Epoch 45/100\n",
            "13/13 [==============================] - 2s 165ms/step - loss: 2.7864e-04 - val_loss: 0.0058\n",
            "Epoch 46/100\n",
            "13/13 [==============================] - 2s 165ms/step - loss: 2.8731e-04 - val_loss: 0.0055\n",
            "Epoch 47/100\n",
            "13/13 [==============================] - 2s 168ms/step - loss: 2.9803e-04 - val_loss: 0.0102\n",
            "Epoch 48/100\n",
            "13/13 [==============================] - 2s 166ms/step - loss: 3.2073e-04 - val_loss: 0.0082\n",
            "Epoch 49/100\n",
            "13/13 [==============================] - 2s 178ms/step - loss: 2.9745e-04 - val_loss: 0.0052\n",
            "Epoch 50/100\n",
            "13/13 [==============================] - 3s 215ms/step - loss: 2.7487e-04 - val_loss: 0.0062\n",
            "Epoch 51/100\n",
            "13/13 [==============================] - 2s 165ms/step - loss: 2.6931e-04 - val_loss: 0.0054\n",
            "Epoch 52/100\n",
            "13/13 [==============================] - 2s 162ms/step - loss: 2.8145e-04 - val_loss: 0.0085\n",
            "Epoch 53/100\n",
            "13/13 [==============================] - 2s 161ms/step - loss: 2.8075e-04 - val_loss: 0.0054\n",
            "Epoch 54/100\n",
            "13/13 [==============================] - 2s 162ms/step - loss: 2.6063e-04 - val_loss: 0.0100\n",
            "Epoch 55/100\n",
            "13/13 [==============================] - 3s 251ms/step - loss: 3.5144e-04 - val_loss: 0.0034\n",
            "Epoch 56/100\n",
            "13/13 [==============================] - 2s 160ms/step - loss: 2.9611e-04 - val_loss: 0.0112\n",
            "Epoch 57/100\n",
            "13/13 [==============================] - 2s 161ms/step - loss: 3.3618e-04 - val_loss: 0.0029\n",
            "Epoch 58/100\n",
            "13/13 [==============================] - 2s 165ms/step - loss: 3.1012e-04 - val_loss: 0.0073\n",
            "Epoch 59/100\n",
            "13/13 [==============================] - 2s 164ms/step - loss: 2.6295e-04 - val_loss: 0.0080\n",
            "Epoch 60/100\n",
            "13/13 [==============================] - 2s 189ms/step - loss: 2.7503e-04 - val_loss: 0.0032\n",
            "Epoch 61/100\n",
            "13/13 [==============================] - 3s 211ms/step - loss: 3.0844e-04 - val_loss: 0.0089\n",
            "Epoch 62/100\n",
            "13/13 [==============================] - 2s 161ms/step - loss: 3.0061e-04 - val_loss: 0.0038\n",
            "Epoch 63/100\n",
            "13/13 [==============================] - 2s 163ms/step - loss: 2.5078e-04 - val_loss: 0.0063\n",
            "Epoch 64/100\n",
            "13/13 [==============================] - 3s 221ms/step - loss: 2.5015e-04 - val_loss: 0.0082\n",
            "Epoch 65/100\n",
            "13/13 [==============================] - 2s 163ms/step - loss: 2.6070e-04 - val_loss: 0.0057\n",
            "Epoch 66/100\n",
            "13/13 [==============================] - 3s 234ms/step - loss: 2.3816e-04 - val_loss: 0.0052\n",
            "Epoch 67/100\n",
            "13/13 [==============================] - 2s 166ms/step - loss: 2.3720e-04 - val_loss: 0.0064\n",
            "Epoch 68/100\n",
            "13/13 [==============================] - 2s 160ms/step - loss: 2.3649e-04 - val_loss: 0.0056\n",
            "Epoch 69/100\n",
            "13/13 [==============================] - 2s 162ms/step - loss: 2.3110e-04 - val_loss: 0.0047\n",
            "Epoch 70/100\n",
            "13/13 [==============================] - 2s 160ms/step - loss: 2.4651e-04 - val_loss: 0.0070\n",
            "Epoch 71/100\n",
            "13/13 [==============================] - 3s 209ms/step - loss: 2.4296e-04 - val_loss: 0.0044\n",
            "Epoch 72/100\n",
            "13/13 [==============================] - 2s 186ms/step - loss: 2.5432e-04 - val_loss: 0.0062\n",
            "Epoch 73/100\n",
            "13/13 [==============================] - 2s 161ms/step - loss: 2.3580e-04 - val_loss: 0.0048\n",
            "Epoch 74/100\n",
            "13/13 [==============================] - 2s 163ms/step - loss: 2.3186e-04 - val_loss: 0.0051\n",
            "Epoch 75/100\n",
            "13/13 [==============================] - 2s 161ms/step - loss: 2.2912e-04 - val_loss: 0.0056\n",
            "Epoch 76/100\n",
            "13/13 [==============================] - 2s 160ms/step - loss: 2.2383e-04 - val_loss: 0.0042\n",
            "Epoch 77/100\n",
            "13/13 [==============================] - 3s 250ms/step - loss: 2.1756e-04 - val_loss: 0.0046\n",
            "Epoch 78/100\n",
            "13/13 [==============================] - 2s 162ms/step - loss: 2.1732e-04 - val_loss: 0.0034\n",
            "Epoch 79/100\n",
            "13/13 [==============================] - 2s 168ms/step - loss: 2.2446e-04 - val_loss: 0.0056\n",
            "Epoch 80/100\n",
            "13/13 [==============================] - 2s 160ms/step - loss: 2.0904e-04 - val_loss: 0.0043\n",
            "Epoch 81/100\n",
            "13/13 [==============================] - 2s 169ms/step - loss: 2.1147e-04 - val_loss: 0.0078\n",
            "Epoch 82/100\n",
            "13/13 [==============================] - 3s 219ms/step - loss: 2.4932e-04 - val_loss: 0.0038\n",
            "Epoch 83/100\n",
            "13/13 [==============================] - 3s 196ms/step - loss: 2.1665e-04 - val_loss: 0.0046\n",
            "Epoch 84/100\n",
            "13/13 [==============================] - 2s 166ms/step - loss: 2.5016e-04 - val_loss: 0.0067\n",
            "Epoch 85/100\n",
            "13/13 [==============================] - 2s 163ms/step - loss: 2.4147e-04 - val_loss: 0.0042\n",
            "Epoch 86/100\n",
            "13/13 [==============================] - 2s 164ms/step - loss: 2.1753e-04 - val_loss: 0.0031\n",
            "Epoch 87/100\n",
            "13/13 [==============================] - 2s 168ms/step - loss: 2.1548e-04 - val_loss: 0.0050\n",
            "Epoch 88/100\n",
            "13/13 [==============================] - 3s 244ms/step - loss: 2.0411e-04 - val_loss: 0.0026\n",
            "Epoch 89/100\n",
            "13/13 [==============================] - 2s 163ms/step - loss: 2.0030e-04 - val_loss: 0.0054\n",
            "Epoch 90/100\n",
            "13/13 [==============================] - 2s 163ms/step - loss: 2.0110e-04 - val_loss: 0.0058\n",
            "Epoch 91/100\n",
            "13/13 [==============================] - 2s 168ms/step - loss: 2.0239e-04 - val_loss: 0.0044\n",
            "Epoch 92/100\n",
            "13/13 [==============================] - 2s 176ms/step - loss: 1.8934e-04 - val_loss: 0.0032\n",
            "Epoch 93/100\n",
            "13/13 [==============================] - 3s 238ms/step - loss: 1.8862e-04 - val_loss: 0.0026\n",
            "Epoch 94/100\n",
            "13/13 [==============================] - 2s 173ms/step - loss: 1.9118e-04 - val_loss: 0.0049\n",
            "Epoch 95/100\n",
            "13/13 [==============================] - 2s 161ms/step - loss: 1.7628e-04 - val_loss: 0.0047\n",
            "Epoch 96/100\n",
            "13/13 [==============================] - 2s 164ms/step - loss: 1.8991e-04 - val_loss: 0.0031\n",
            "Epoch 97/100\n",
            "13/13 [==============================] - 2s 166ms/step - loss: 1.8540e-04 - val_loss: 0.0023\n",
            "Epoch 98/100\n",
            "13/13 [==============================] - 2s 183ms/step - loss: 1.8445e-04 - val_loss: 0.0037\n",
            "Epoch 99/100\n",
            "13/13 [==============================] - 3s 222ms/step - loss: 1.7306e-04 - val_loss: 0.0036\n",
            "Epoch 100/100\n",
            "13/13 [==============================] - 2s 167ms/step - loss: 1.6664e-04 - val_loss: 0.0029\n"
          ]
        },
        {
          "output_type": "execute_result",
          "data": {
            "text/plain": [
              "<keras.src.callbacks.History at 0x7a79f00ecb20>"
            ]
          },
          "metadata": {},
          "execution_count": 18
        }
      ]
    },
    {
      "cell_type": "code",
      "source": [
        "# Lets Do prediction and check performance metrics\n",
        "\n",
        "train_predict = model.predict(X_train)\n",
        "test_predict = model.predict(X_test)\n",
        "\n",
        "# Transform to original form\n",
        "\n",
        "train_predict = scaler.inverse_transform(train_predict)\n",
        "test_predict = scaler.inverse_transform(test_predict)\n"
      ],
      "metadata": {
        "colab": {
          "base_uri": "https://localhost:8080/"
        },
        "id": "Ib37OCdutZNi",
        "outputId": "ab0cfdfc-b535-4fdc-c14b-def3dd0c58e8"
      },
      "execution_count": null,
      "outputs": [
        {
          "output_type": "stream",
          "name": "stdout",
          "text": [
            "25/25 [==============================] - 2s 33ms/step\n",
            "9/9 [==============================] - 0s 32ms/step\n"
          ]
        }
      ]
    },
    {
      "cell_type": "code",
      "source": [
        "#  Calculate RMSE performance metrics\n",
        "import math\n",
        "\n",
        "from sklearn.metrics import mean_squared_error\n",
        "print (math.sqrt(mean_squared_error(y_train, train_predict)))\n",
        "print (math.sqrt(mean_squared_error(y_test, test_predict)))"
      ],
      "metadata": {
        "colab": {
          "base_uri": "https://localhost:8080/"
        },
        "id": "KZXOsrnuvbAO",
        "outputId": "df5c4227-4fff-4b42-b0fb-a0a7b59c9923"
      },
      "execution_count": null,
      "outputs": [
        {
          "output_type": "stream",
          "name": "stdout",
          "text": [
            "1061.6150918003214\n",
            "1740.5795814589221\n"
          ]
        }
      ]
    },
    {
      "cell_type": "code",
      "source": [
        "# Plotting\n",
        "\n",
        "look_back = 100\n",
        "\n",
        "trainPredictPlot = np.empty_like(df1)\n",
        "trainPredictPlot[:, :] = np.nan\n",
        "trainPredictPlot[look_back: len(train_predict) + look_back, :] = train_predict\n",
        "\n",
        "testPredictPlot = np.empty_like(df1)\n",
        "testPredictPlot[:, :] = np.nan\n",
        "testPredictPlot[ len(train_predict) + (look_back*2)+1 : len(df1)-1, : ] = test_predict\n",
        "\n",
        "plt.title('Google stock prices Prediction Plot with Training and Test Data')\n",
        "plt.plot(scaler.inverse_transform(df1), label='Original Data')\n",
        "plt.plot(trainPredictPlot, label='Training Predictions')\n",
        "plt.plot(testPredictPlot, label='Test Predictions')\n",
        "plt.legend()\n",
        "plt.show()\n"
      ],
      "metadata": {
        "colab": {
          "base_uri": "https://localhost:8080/",
          "height": 452
        },
        "id": "l85_6SgfwG0y",
        "outputId": "da008d07-090a-430e-ee41-eb4c1a5302b8"
      },
      "execution_count": null,
      "outputs": [
        {
          "output_type": "display_data",
          "data": {
            "text/plain": [
              "<Figure size 640x480 with 1 Axes>"
            ],
            "image/png": "[encoded data removed]"
          },
          "metadata": {}
        }
      ]
    }
  ]
}